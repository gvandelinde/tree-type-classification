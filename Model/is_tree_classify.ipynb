{
 "cells": [
  {
   "cell_type": "code",
   "execution_count": 1,
   "metadata": {},
   "outputs": [],
   "source": [
    "import tensorflow as tf\n",
    "from tensorflow.keras.preprocessing import image  # Importing from tf.keras\n",
    "import os\n",
    "import numpy as np\n",
    "import matplotlib.pyplot as plt\n",
    "import shutil\n"
   ]
  },
  {
   "cell_type": "code",
   "execution_count": 2,
   "metadata": {},
   "outputs": [],
   "source": [
    "# Load the saved model\n",
    "loaded_model = tf.keras.models.load_model('is_tree_model')"
   ]
  },
  {
   "cell_type": "code",
   "execution_count": 5,
   "metadata": {},
   "outputs": [],
   "source": [
    "\n",
    "TREE_TYPES = ['Dood', 'Goed', 'Matig', 'Redelijk', 'Slecht', 'Zeer Slecht']\n",
    "FOLDER_PATH_OUTPUT = 'is_tree_images/classified_images/'\n",
    "FOLDER_PATH_INPUT = '../RetrieveGSV/images/images/'\n",
    "\n",
    "\n",
    "for tree_path in TREE_TYPES:   \n",
    "    # Construct the full path for the current tree type\n",
    "    output_tree = os.path.join(FOLDER_PATH_OUTPUT, 'tree', tree_path)\n",
    "    output_not_tree = os.path.join(FOLDER_PATH_OUTPUT, 'not_tree', tree_path)\n",
    "    \n",
    "    # Check if the directory exists, if not, create it\n",
    "    if not os.path.exists(output_tree):\n",
    "        os.makedirs(output_tree)\n",
    "\n",
    "    if not os.path.exists(output_not_tree):\n",
    "        os.makedirs(output_not_tree)\n"
   ]
  },
  {
   "cell_type": "code",
   "execution_count": 7,
   "metadata": {},
   "outputs": [
    {
     "ename": "FileNotFoundError",
     "evalue": "[WinError 3] The system cannot find the path specified: 'RetrieveGSV/images/images/Dood'",
     "output_type": "error",
     "traceback": [
      "\u001b[1;31m---------------------------------------------------------------------------\u001b[0m",
      "\u001b[1;31mFileNotFoundError\u001b[0m                         Traceback (most recent call last)",
      "Cell \u001b[1;32mIn[7], line 7\u001b[0m\n\u001b[0;32m      4\u001b[0m output_not_tree \u001b[38;5;241m=\u001b[39m os\u001b[38;5;241m.\u001b[39mpath\u001b[38;5;241m.\u001b[39mjoin(FOLDER_PATH_OUTPUT, \u001b[38;5;124m'\u001b[39m\u001b[38;5;124mnot_tree\u001b[39m\u001b[38;5;124m'\u001b[39m, tree_path)\n\u001b[0;32m      5\u001b[0m input_tree_type \u001b[38;5;241m=\u001b[39m os\u001b[38;5;241m.\u001b[39mpath\u001b[38;5;241m.\u001b[39mjoin(FOLDER_PATH_INPUT, tree_path)\n\u001b[1;32m----> 7\u001b[0m \u001b[38;5;28;01mfor\u001b[39;00m filename \u001b[38;5;129;01min\u001b[39;00m \u001b[43mos\u001b[49m\u001b[38;5;241;43m.\u001b[39;49m\u001b[43mlistdir\u001b[49m\u001b[43m(\u001b[49m\u001b[43minput_tree_type\u001b[49m\u001b[43m)\u001b[49m:\n\u001b[0;32m      8\u001b[0m     image_input_path \u001b[38;5;241m=\u001b[39m os\u001b[38;5;241m.\u001b[39mpath\u001b[38;5;241m.\u001b[39mjoin(input_tree_type, filename)\n\u001b[0;32m      9\u001b[0m     \u001b[38;5;28;01mif\u001b[39;00m os\u001b[38;5;241m.\u001b[39mpath\u001b[38;5;241m.\u001b[39misfile(image_input_path):\n\u001b[0;32m     10\u001b[0m         \u001b[38;5;66;03m# Load image using TensorFlow's Keras preprocessing\u001b[39;00m\n",
      "\u001b[1;31mFileNotFoundError\u001b[0m: [WinError 3] The system cannot find the path specified: 'RetrieveGSV/images/images/Dood'"
     ]
    }
   ],
   "source": [
    "for tree_path in TREE_TYPES:\n",
    "    # Construct the full path for the current tree type\n",
    "    output_tree = os.path.join(FOLDER_PATH_OUTPUT, 'tree', tree_path)\n",
    "    output_not_tree = os.path.join(FOLDER_PATH_OUTPUT, 'not_tree', tree_path)\n",
    "    input_tree_type = os.path.join(FOLDER_PATH_INPUT, tree_path)\n",
    "\n",
    "    for filename in os.listdir(input_tree_type):\n",
    "        image_input_path = os.path.join(input_tree_type, filename)\n",
    "        if os.path.isfile(image_input_path):\n",
    "            # Load image using TensorFlow's Keras preprocessing\n",
    "            img = image.load_img(image_input_path, target_size=(200, 200))\n",
    "\n",
    "            # Convert image to array\n",
    "            X = image.img_to_array(img)\n",
    "            X = np.expand_dims(X, axis=0)\n",
    "\n",
    "            # Predict\n",
    "            prediction = loaded_model.predict(X)\n",
    "\n",
    "            if prediction == 0:\n",
    "                print(\"Not a tree\")\n",
    "                shutil.copy(image_input_path, os.path.join(output_not_tree, filename))\n",
    "            else:\n",
    "                print(\"A tree\")\n",
    "                shutil.copy(image_input_path, os.path.join(output_tree, filename))\n"
   ]
  }
 ],
 "metadata": {
  "kernelspec": {
   "display_name": "tensorflowgpu",
   "language": "python",
   "name": "python3"
  },
  "language_info": {
   "codemirror_mode": {
    "name": "ipython",
    "version": 3
   },
   "file_extension": ".py",
   "mimetype": "text/x-python",
   "name": "python",
   "nbconvert_exporter": "python",
   "pygments_lexer": "ipython3",
   "version": "3.10.13"
  }
 },
 "nbformat": 4,
 "nbformat_minor": 2
}
