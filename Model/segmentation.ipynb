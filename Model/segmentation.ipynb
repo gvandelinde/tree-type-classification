{
 "cells": [
  {
   "cell_type": "code",
   "execution_count": 69,
   "metadata": {},
   "outputs": [],
   "source": [
    "from inference_sdk import InferenceHTTPClient, InferenceConfiguration\n",
    "from PIL import Image, ImageDraw, ImageFilter\n",
    "\n",
    "custom_configuration = InferenceConfiguration(confidence_threshold=0.1)\n",
    "\n",
    "CLIENT = InferenceHTTPClient(\n",
    "    api_url=\"https://outline.roboflow.com\",\n",
    "    api_key=\"kiW8upICXaWRP7kAm4Ct\"\n",
    ")\n",
    "\n",
    "img_path = \"is_tree_images/classified_images/tree/Zeer Slecht/1261_2015-09_51-99397358800666_4-335523181853664_Zeer Slecht.jpg\"\n",
    "\n",
    "with CLIENT.use_configuration(custom_configuration):\n",
    "    results = CLIENT.infer(img_path, model_id=\"cameraexplorer/1\")\n"
   ]
  },
  {
   "cell_type": "code",
   "execution_count": 68,
   "metadata": {},
   "outputs": [],
   "source": [
    "\n",
    "# Load the original image\n",
    "image = Image.open(img_path)\n",
    "\n",
    "# Create a blurred version of the original image\n",
    "blurred_image = image.filter(ImageFilter.GaussianBlur(15))  # Adjust the blur radius as needed\n",
    "\n",
    "# Initialize a blank mask with the same dimensions as the original image\n",
    "mask = Image.new('L', image.size, 0)\n",
    "draw = ImageDraw.Draw(mask)\n",
    "\n",
    "has_tree = False  # Initialize flag\n",
    "\n",
    "# Iterate over each detected object in your results\n",
    "for obj in results['predictions']:\n",
    "    if obj['class'] == 'tree':\n",
    "        has_tree = True  # Initialize flag\n",
    "        # 'points' is a list of dictionaries, each with 'x' and 'y' keys\n",
    "        # Convert this into a list of tuples that PIL can use to draw the polygon\n",
    "        polygon = [(point['x'], point['y']) for point in obj['points']]\n",
    "        \n",
    "        # Draw the polygon on the mask and fill it with white (255)\n",
    "        draw.polygon(polygon, fill=255)\n",
    "# Combine the original image with the blurred image, using the mask to keep the areas within the polygons clear\n",
    "final_image = Image.composite(image, blurred_image, mask)\n",
    "\n",
    "#if not empty\n",
    "if has_tree:\n",
    "    final_image.save(\"blurred_background_image_conf.jpg\")\n",
    "\n",
    "# Save\n"
   ]
  }
 ],
 "metadata": {
  "kernelspec": {
   "display_name": "tensorflowgpu",
   "language": "python",
   "name": "python3"
  },
  "language_info": {
   "codemirror_mode": {
    "name": "ipython",
    "version": 3
   },
   "file_extension": ".py",
   "mimetype": "text/x-python",
   "name": "python",
   "nbconvert_exporter": "python",
   "pygments_lexer": "ipython3",
   "version": "3.10.13"
  }
 },
 "nbformat": 4,
 "nbformat_minor": 2
}
